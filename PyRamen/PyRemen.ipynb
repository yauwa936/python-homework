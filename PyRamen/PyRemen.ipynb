{
 "cells": [
  {
   "cell_type": "code",
   "execution_count": 1,
   "metadata": {},
   "outputs": [],
   "source": [
    "# Import the pathlib and csv library\n",
    "from pathlib import Path\n",
    "import csv\n",
    "\n",
    "# Set the file path\n",
    "menupath = Path('Resources/menu_data.csv')\n",
    "salepath = Path('Resources/sales_data.csv')\n",
    "# Set the output file path\n",
    "output_path = Path(\"output.txt\")\n",
    "\n",
    "# Initialize variable to hold menu data\n",
    "\n",
    "menu = []\n",
    "\n",
    "# Initialize variable to hold sale data\n",
    "sale = []\n",
    "quantity = 0\n",
    "menu_item = \"\"\n",
    "report = {}\n"
   ]
  },
  {
   "cell_type": "code",
   "execution_count": null,
   "metadata": {},
   "outputs": [],
   "source": [
    "with open(menupath, 'r') as csvmenufile:\n",
    "    csvmenureader = csv.reader(csvmenufile, delimiter=',')\n",
    "    header = next(csvmenureader)\n",
    "    for row in csvmenureader:\n",
    "        menu.append(row)\n",
    "    "
   ]
  }
 ],
 "metadata": {
  "kernelspec": {
   "display_name": "Python 3",
   "language": "python",
   "name": "python3"
  },
  "language_info": {
   "codemirror_mode": {
    "name": "ipython",
    "version": 3
   },
   "file_extension": ".py",
   "mimetype": "text/x-python",
   "name": "python",
   "nbconvert_exporter": "python",
   "pygments_lexer": "ipython3",
   "version": "3.7.10"
  }
 },
 "nbformat": 4,
 "nbformat_minor": 4
}
