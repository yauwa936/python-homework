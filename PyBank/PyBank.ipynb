{
 "cells": [
  {
   "cell_type": "code",
   "execution_count": 1,
   "metadata": {},
   "outputs": [],
   "source": [
    "from pathlib import Path\n",
    "import pandas as pd\n",
    "import csv\n",
    "\n",
    "# Set the file path\n",
    "csvpath = Path('./Resources/budget_data.csv')\n",
    "# Export path for txt file of results\n",
    "output_path = Path('results.txt')"
   ]
  },
  {
   "cell_type": "code",
   "execution_count": 2,
   "metadata": {},
   "outputs": [
    {
     "name": "stdout",
     "output_type": "stream",
     "text": [
      "Total months: 86\n",
      "Total: 38382578\n",
      "Average Change: -2315.12\n",
      "Greatest Increase in Profits: Feb-2012: 1926159\n",
      "Greatest Decrease in Profits: Sep-2013: -2196167\n"
     ]
    }
   ],
   "source": [
    "# Initialize variable to hold Profit/loss\n",
    "month = []\n",
    "profit = []\n",
    "monthly_change = []\n",
    "\n",
    "# Define avarge of a list function\n",
    "def average_list(lst):\n",
    "    return sum(lst) / len(lst)\n",
    "\n",
    "# open input path as file object\n",
    "with open(csvpath, 'r') as csvfile:\n",
    "    \n",
    "    # pass in csv file and csv.reader() function\n",
    "    # with ',' as the delmiter/separator) and return the csvreader object\n",
    "    csvreader = csv.reader(csvfile)\n",
    "    header = next(csvreader)\n",
    "    \n",
    "    for row in csvreader:\n",
    "        month.append(row[0])\n",
    "        profit.append(int(row[1]))\n",
    "    \n",
    "    # Go through monthly profit and get the monthly change\n",
    "    for i in range(len(profit)-1):\n",
    "        change = profit[i+1]-profit[i]\n",
    "        monthly_change.append(int(change))\n",
    "    \n",
    "    #summary statistics:\n",
    "    average_monthly_change = round(average_list(monthly_change), 2)\n",
    "    greatest_increase_profit = max(monthly_change)\n",
    "    greatest_increase_month = month[monthly_change.index(greatest_increase_profit) +1]\n",
    "    greatest_decrease_profit = min(monthly_change)\n",
    "    greatest_decrease_month = month[monthly_change.index(greatest_decrease_profit) +1]\n",
    "    # Print out the summary statistics\n",
    "    print(f\"Total months: {len(month)}\")\n",
    "    print(f\"Total: {sum(profit)}\")\n",
    "    print(f\"Average Change: {average_monthly_change}\")\n",
    "    print(f\"Greatest Increase in Profits: {greatest_increase_month}: {greatest_increase_profit}\")\n",
    "    print(f\"Greatest Decrease in Profits: {greatest_decrease_month}: {greatest_decrease_profit}\")\n",
    "    \n",
    "# Open the output_path as a file object in \"write\" mode ('w')\n",
    "# Write a header line and write the contents of 'text' to the file\n",
    "with open(output_path, 'w') as file:\n",
    "    file.write(\"Financial Analysis\\n\")\n",
    "    file.write(\"---\")\n",
    "\n",
    "    file.write(f\"Total months:{len(month)}\\n\")\n",
    "    file.write(f\"Total: {sum(profit)}\\n\")\n",
    "    file.write(f\"Average Change: {average_monthly_change}\\n\")\n",
    "    file.write(f\"Greatest Increase in Profits: {greatest_increase_month}: {greatest_increase_profit}\\n\")\n",
    "    file.write(f\"Greatest Decrease in Profits: {greatest_decrease_month}: {greatest_decrease_profit}\\n\")"
   ]
  },
  {
   "cell_type": "code",
   "execution_count": null,
   "metadata": {},
   "outputs": [],
   "source": []
  }
 ],
 "metadata": {
  "kernelspec": {
   "display_name": "Python [conda env:project1] *",
   "language": "python",
   "name": "conda-env-project1-py"
  },
  "language_info": {
   "codemirror_mode": {
    "name": "ipython",
    "version": 3
   },
   "file_extension": ".py",
   "mimetype": "text/x-python",
   "name": "python",
   "nbconvert_exporter": "python",
   "pygments_lexer": "ipython3",
   "version": "3.7.10"
  }
 },
 "nbformat": 4,
 "nbformat_minor": 4
}
